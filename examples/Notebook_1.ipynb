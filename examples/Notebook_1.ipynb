{
 "cells": [
  {
   "cell_type": "markdown",
   "metadata": {},
   "source": [
    "**Plot geodetic data from the FITS (FIeld Time Series) database**\n",
    "\n",
    "In this notebook we will go through some basic data access, csv writing, and plotting of geodetic data from the FITS (FIeld Time Series) database using Python. We will mostly use the [pandas](http://pandas.pydata.org/pandas-docs/stable/overview.html) package for the data manipulation and plotting, but we will supplement this package's functionality with the [numpy](http://www.numpy.org/) and [matplotlib](https://matplotlib.org/) packages.\n",
    "\n",
    "For a guide to the FITS API visit https://fits.geonet.org.nz/api-docs/.\n",
    "\n",
    "First of all we will need to import the packages into Python so that their modules can be accessed."
   ]
  },
  {
   "cell_type": "code",
   "execution_count": 1,
   "metadata": {},
   "outputs": [],
   "source": [
    "# Import packages\n",
    "\n",
    "import pandas as pd # import the pandas package and rename it as pd\n",
    "\n",
    "import numpy as np # import the numpy package and rename it as np\n",
    "\n",
    "import matplotlib.pyplot as plt # import the pyplot module from the matplotlib package and rename it plt"
   ]
  },
  {
   "cell_type": "markdown",
   "metadata": {},
   "source": [
    "If these packages exist and are recognised by the host computer's python installation this step should run without error.\n",
    "\n",
    "Next we need to specify what geodetic site we want the data from and what type of data we want."
   ]
  },
  {
   "cell_type": "code",
   "execution_count": 2,
   "metadata": {},
   "outputs": [],
   "source": [
    "# Set parameters to use in FITS API query\n",
    "\n",
    "site = 'KAIK' # site code is four letters\n",
    "data_type = 'u' # data type is one letter: u (up), n (north), e (east)\n",
    "\n",
    "# Ensure parameters are in the correct format for use with the FITS API\n",
    "\n",
    "site = str.upper(site) # ensure site code is upper case"
   ]
  },
  {
   "cell_type": "markdown",
   "metadata": {},
   "source": [
    "The next code segment will build a FITS API query from the site and data type parameters. We will look only at observation data in this notebook, so we will use the https://fits.geonet.org.nz/observation? URL as the prefix to our queries.\n",
    "\n",
    "FITS API queries are in the format *query_prefix?x=a&y=b&z=c* where *a*, *b*, *c* are features of the data we want, and *x*, *y*, *z* describe what these features are, e.g. https://fits.geonet.org.nz/observation?typeID=a&siteID=b&days=c will provide data of type *a* from the site *b* for *c* days prior to today. By default all observation data of the given type from the chosen site will be provided if no *days* parameter value is specified.\n",
    "\n",
    "Once the query is built we will use pandas csv reading module to parse the data into Python. We will use some of the additional functionality of this module to shape the parsed csv data into an easy-to-use format."
   ]
  },
  {
   "cell_type": "code",
   "execution_count": 3,
   "metadata": {},
   "outputs": [],
   "source": [
    "# Build a FITS API query by combining parameter:value pairs in the query format\n",
    "\n",
    "query_suffix = 'siteID=%s&typeID=%s' % (site, data_type)\n",
    "\n",
    "# Combine the query parameter=value string with the FITS observation data URL\n",
    "\n",
    "URL = 'https://fits.geonet.org.nz/observation?' + query_suffix\n",
    "\n",
    "# Use pandas csv reading functionality to parse the FITS obervation data into Python\n",
    "\n",
    "data = pd.read_csv(URL, names=['date-time', data_type, 'error'], header=0, parse_dates=[0], index_col=0)"
   ]
  },
  {
   "cell_type": "markdown",
   "metadata": {},
   "source": [
    "The data is now in a DataFrame object in Python. This object has three parts: headers (data types), the index (times), and the values (observation data values). This structure is highly malleable and allows data to be accessed and altered in an almost endless number of ways. Here we will use both a number-based and header-based indexing of the DataFrame to plot parts of the data."
   ]
  },
  {
   "cell_type": "code",
   "execution_count": 4,
   "metadata": {},
   "outputs": [],
   "source": [
    "# Optional: print the DataFrame object to inspect it as a whole and in parts\n",
    "\n",
    "display_data = False # change variable value to True to print DataFrame and its segments\n",
    "\n",
    "if display_data == True:\n",
    "    \n",
    "    print('\\n --- DataFrame object --- \\n')\n",
    "    print(data.to_string()) # prints DataFrame without central ... truncation\n",
    "    print('\\n --- DataFrame headers --- \\n')\n",
    "    print(data.columns)\n",
    "    print('\\n --- DataFrame index --- \\n')\n",
    "    print(data.index)\n",
    "    print( '\\n --- DataFrame values --- \\n')\n",
    "    print(data.values)"
   ]
  },
  {
   "cell_type": "code",
   "execution_count": 10,
   "metadata": {},
   "outputs": [
    {
     "data": {
      "image/png": "[encoded data removed]",
      "text/plain": [
       "<Figure size 432x288 with 1 Axes>"
      ]
     },
     "metadata": {},
     "output_type": "display_data"
    }
   ],
   "source": [
    "# Plot all the data in the first column of the DataFrame\n",
    "\n",
    "data.iloc[:, 0].plot(marker='o', linestyle=':', color = 'red')\n",
    "\n",
    "# Plot the data with header data_type for the year surrounding the 2016 Kaikoura earthquake\n",
    "# Allow this plotting to fail non-destructively if the data does not exist for the site\n",
    "\n",
    "try:\n",
    "    \n",
    "    data.loc['2016-07-01 11:59:00':'2017-07-01 11:59:00', data_type].plot(marker='o', linestyle=':', color = 'blue')\n",
    "    \n",
    "except:\n",
    "    \n",
    "    print('Plotting index is out of data range - skipping subset plotting')\n",
    "\n",
    "# Add functional aspects to plot\n",
    "\n",
    "plt.xlabel('Time', fontsize = 12)\n",
    "plt.ylabel(data_type + ' (mm)', fontsize = 12)\n",
    "plt.title('Relative ' + data_type + ' displacement for ' + site, fontsize = 12)\n",
    "plt.show()"
   ]
  },
  {
   "cell_type": "markdown",
   "metadata": {},
   "source": [
    "Note the blue points in the above plot - this is where the subset of data overprints the red \"all data\" plot. The real power of pandas for data management becomes apparent here: we can access certain sections of a huge dataset through the DataFrame index by simply specifying two bounding indexes (times).\n",
    "\n",
    "To save the DataFrame as a csv, simply set the file name and use the to_csv function of the DataFrame object:"
   ]
  },
  {
   "cell_type": "code",
   "execution_count": 6,
   "metadata": {},
   "outputs": [],
   "source": [
    "# Write data to a csv file in the user home directory\n",
    "# set no-data values to numpy \"not a number\" format.\n",
    "\n",
    "data.to_csv(path_or_buf = '~/FITS_data.csv', sep = ',', na_rep = np.nan)"
   ]
  }
 ],
 "metadata": {
  "kernelspec": {
   "display_name": "Python 3",
   "language": "python",
   "name": "python3"
  },
  "language_info": {
   "codemirror_mode": {
    "name": "ipython",
    "version": 3
   },
   "file_extension": ".py",
   "mimetype": "text/x-python",
   "name": "python",
   "nbconvert_exporter": "python",
   "pygments_lexer": "ipython3",
   "version": "3.6.5"
  }
 },
 "nbformat": 4,
 "nbformat_minor": 2
}
