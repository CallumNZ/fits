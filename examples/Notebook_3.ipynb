{
 "cells": [
  {
   "cell_type": "markdown",
   "metadata": {
    "collapsed": true
   },
   "source": [
    "**Data discovery using FITS (FIeld Time Series) database - for sites**\n",
    "\n",
    "In this notebook we will look at discovering what data exists for a site in the FITS (FIeld Time Series) database. Again some functionality from previous notebooks in this series will be imported as functions.\n",
    "\n",
    "To begin we will create a list of all the different data types available in the FITS database:"
   ]
  },
  {
   "cell_type": "code",
   "execution_count": 1,
   "metadata": {},
   "outputs": [],
   "source": [
    "import pandas as pd\n",
    "import matplotlib.pyplot as plt\n",
    "import datetime\n",
    "import numpy as np\n",
    "\n",
    "# Create list of all typeIDs available in the FITS database\n",
    "\n",
    "all_type_URL = 'https://fits.geonet.org.nz/type'\n",
    "\n",
    "all_types = pd.read_json(all_type_URL).iloc[:,0]\n",
    "\n",
    "all_typeIDs= []\n",
    "\n",
    "for row in all_types:\n",
    "    \n",
    "    all_typeIDs.append(row['typeID'])"
   ]
  },
  {
   "cell_type": "markdown",
   "metadata": {},
   "source": [
    "Now we will specify the site(s) we want to query for available data types."
   ]
  },
  {
   "cell_type": "code",
   "execution_count": 2,
   "metadata": {},
   "outputs": [],
   "source": [
    "# Specify site(s) to get data for\n",
    "\n",
    "sites = ['RU001', 'WI222']"
   ]
  },
  {
   "cell_type": "markdown",
   "metadata": {},
   "source": [
    "The next code segment will query the FITS database for data of all types at the given site(s). The output will be a list of data types available at the site(s) specified."
   ]
  },
  {
   "cell_type": "code",
   "execution_count": 3,
   "metadata": {},
   "outputs": [
    {
     "name": "stdout",
     "output_type": "stream",
     "text": [
      "Data types available for RU001:\n",
      "\n",
      "t\n",
      "fr\n",
      "ph\n",
      "Cl\n",
      "Mg\n",
      "Li-w\n",
      "Na-w\n",
      "K-w\n",
      "Ca-w\n",
      "SiO2-w\n",
      "H2S-w\n",
      "Fe-w\n",
      "Al-w\n",
      "As-w\n",
      "Rb-w\n",
      "Cs-w\n",
      "NH3-w\n",
      "B-w\n",
      "F-w\n",
      "Br-w\n",
      "NO3-N-w\n",
      "PO4-P-w\n",
      "z\n",
      "SO4-w\n",
      "d18O-w\n",
      "d2H-w\n",
      "Mg-w\n",
      "Cl-w\n",
      "\n",
      "\n",
      "Data types available for WI222:\n",
      "\n",
      "t\n",
      "ph\n",
      "Li-w\n",
      "Na-w\n",
      "K-w\n",
      "Ca-w\n",
      "SiO2-w\n",
      "H2S-w\n",
      "Fe-w\n",
      "Al-w\n",
      "As-w\n",
      "NH3-w\n",
      "B-w\n",
      "F-w\n",
      "Br-w\n",
      "NO3-N-w\n",
      "PO4-P-w\n",
      "SO4-w\n",
      "d18O-w\n",
      "d2H-w\n",
      "Mg-w\n",
      "Cl-w\n",
      "\n",
      "\n"
     ]
    }
   ],
   "source": [
    "# Ensure list format to sites\n",
    "\n",
    "if type(sites) != list:\n",
    "    \n",
    "    site = sites\n",
    "    sites = []\n",
    "    sites.append(site)\n",
    "    \n",
    "# Prepare data lists\n",
    "\n",
    "site_data = [[] for j in range(len(sites))]\n",
    "\n",
    "site_data_types = [[] for j in range(len(sites))]\n",
    "\n",
    "# Load data from FITS database and parse into data lists\n",
    "\n",
    "for j in range(len(sites)):\n",
    "    \n",
    "    for i in range(len(all_typeIDs)):\n",
    "        \n",
    "        # Build query for site, typeID combination\n",
    "        \n",
    "        query_suffix = 'siteID=%s&typeID=%s' % (sites[j], all_typeIDs[i])\n",
    "        \n",
    "        URL = 'https://fits.geonet.org.nz/observation?' + query_suffix\n",
    "        \n",
    "        # Try to load data of the given typeID for the site, if it fails then the data doesn't exist\n",
    "        \n",
    "        try:\n",
    "            \n",
    "            data = pd.read_csv(URL, names=['date-time', all_typeIDs[i], 'error'], header=0, parse_dates=[0], index_col=0)\n",
    "            \n",
    "            if len(data.values) > 1:\n",
    "                \n",
    "                site_data[j].append(data)\n",
    "            \n",
    "                site_data_types[j].append(all_typeIDs[i])\n",
    "            \n",
    "        except:\n",
    "            \n",
    "            pass\n",
    "\n",
    "# Return information to the operator\n",
    "    \n",
    "for i in range(len(site_data_types)):\n",
    "    \n",
    "    print('Data types available for ' + sites[i] + ':\\n')\n",
    "    \n",
    "    for j in range(len(site_data_types[i])):\n",
    "        \n",
    "        print(site_data_types[i][j])\n",
    "        \n",
    "    print('\\n')"
   ]
  },
  {
   "cell_type": "markdown",
   "metadata": {},
   "source": [
    "While a list of available data types is useful, we need a fast way to view data of a given type and decide if it's what we want. The next code segment deals with plotting some data for each site. As there is a limit to how much data can be displayed on a plot, we will specify which data types we want to display for the site(s). Up to 9 data types can be specified."
   ]
  },
  {
   "cell_type": "code",
   "execution_count": 7,
   "metadata": {
    "scrolled": true
   },
   "outputs": [
    {
     "data": {
      "image/png": "[encoded data removed]",
      "text/plain": [
       "<Figure size 432x288 with 3 Axes>"
      ]
     },
     "metadata": {},
     "output_type": "display_data"
    }
   ],
   "source": [
    "plot_data_types = ['t', 'ph', 'NH3-w']\n",
    "\n",
    "# Determine number and arrangement of subplots (max 9, less for greater legibility)\n",
    "\n",
    "subplot_number = len(plot_data_types)\n",
    "\n",
    "if subplot_number / 3 > 1: # if there are more than 3 subplots\n",
    "\n",
    "    rows = '3'\n",
    "\n",
    "    if subplot_number / 6 > 1: # if there are more than 6 subplots\n",
    "\n",
    "        cols = '3'\n",
    "\n",
    "    else:\n",
    "\n",
    "        cols = '2'\n",
    "\n",
    "else:\n",
    "\n",
    "    rows = str(subplot_number)\n",
    "    cols = '1'  \n",
    "\n",
    "ax = [[] for i in range(len(plot_data_types))]\n",
    "    \n",
    "# Plot data\n",
    "\n",
    "plt.figure(figsize = (16,12))\n",
    "\n",
    "for i in range(len(site_data)): # i is site index\n",
    "\n",
    "    for j in range(len(plot_data_types)): # j is data type index\n",
    "        \n",
    "        k = site_data_types[i].index(plot_data_types[j]) # match data type chosen to position in data list\n",
    "        \n",
    "        if i == 0:\n",
    "        \n",
    "            ax[j] = plt.subplot(int(rows + cols + str(j + 1)))\n",
    "            \n",
    "        if ((i == 0) and (j == 0)):\n",
    "            \n",
    "            # Set initial min/max times\n",
    "            \n",
    "            minmintime = min(site_data[i][k].index.values)\n",
    "            maxmaxtime = max(site_data[i][k].index.values)\n",
    "\n",
    "        # Do not plot empty DataFrames (and avoid cluttering the figure legend)\n",
    "\n",
    "        if len(site_data[i][k].values) < 1:\n",
    "\n",
    "            continue\n",
    "\n",
    "        try:\n",
    "            \n",
    "            ax[j].plot(site_data[i][k].loc[:, plot_data_types[j]], label = sites[i],\n",
    "                      marker='o', linestyle=':')\n",
    "            \n",
    "        except:\n",
    "\n",
    "            continue\n",
    "            \n",
    "        # Get min, max times of dataset\n",
    "\n",
    "        mintime = min(site_data[i][k].index.values)\n",
    "        maxtime = max(site_data[i][k].index.values)\n",
    "            \n",
    "        # Set labels\n",
    "\n",
    "        ax[j].set_xlabel('Time', rotation = 0, labelpad = 5, fontsize = 12)\n",
    "        ax[j].set_ylabel(plot_data_types[j], rotation = 90, labelpad = 5, fontsize = 12)\n",
    "\n",
    "        if ((i == 1) and (j == 0)):\n",
    "\n",
    "            # Set legend\n",
    "\n",
    "            plot, labels = ax[j].get_legend_handles_labels() \n",
    "            # ^ due to repetitive nature of plotting, only need to do this once\n",
    "            ax[j].legend(plot, labels, fontsize = 10, bbox_to_anchor=(-0.2, 1.3))\n",
    "            # Note: the legend may extend off the figure if there are many sites\n",
    "\n",
    "            # Set title\n",
    "\n",
    "            plot_data_typesstr = ''\n",
    "            for k in range(len(plot_data_types)): plot_data_typesstr += plot_data_types[k] + ', '\n",
    "            plot_data_typesstr = plot_data_typesstr[:-2]\n",
    "            ax[j].set_title('All site data for plot data types : ' + plot_data_typesstr, loc = 'left', y = 1.03,\n",
    "                     fontsize = 16)\n",
    "            \n",
    "        # Get min, max times of all data\n",
    "        \n",
    "        minmintime = min(mintime, minmintime)\n",
    "        maxmaxtime = max(maxtime, maxmaxtime)\n",
    "        \n",
    "# Tidy up plot extent and x-axis\n",
    "        \n",
    "for j in range(len(plot_data_types)):\n",
    "    \n",
    "    ax[j].set_xlim([minmintime, maxmaxtime])\n",
    "    ax[j].set_xticks(np.arange(minmintime, maxmaxtime + 1000, (maxmaxtime - minmintime) / 3))\n",
    "\n",
    "plt.show()\n"
   ]
  },
  {
   "cell_type": "code",
   "execution_count": 5,
   "metadata": {},
   "outputs": [
    {
     "data": {
      "text/plain": [
       "<Figure size 432x288 with 0 Axes>"
      ]
     },
     "metadata": {},
     "output_type": "display_data"
    }
   ],
   "source": [
    "# Optionally, save the figure to the current working directory\n",
    "\n",
    "import os\n",
    "\n",
    "plt.savefig(os.getcwd() + '/test.png', format = 'png')"
   ]
  }
 ],
 "metadata": {
  "kernelspec": {
   "display_name": "Python 3",
   "language": "python",
   "name": "python3"
  },
  "language_info": {
   "codemirror_mode": {
    "name": "ipython",
    "version": 3
   },
   "file_extension": ".py",
   "mimetype": "text/x-python",
   "name": "python",
   "nbconvert_exporter": "python",
   "pygments_lexer": "ipython3",
   "version": "3.6.5"
  }
 },
 "nbformat": 4,
 "nbformat_minor": 2
}
